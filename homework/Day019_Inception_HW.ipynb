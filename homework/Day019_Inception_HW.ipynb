{
 "cells": [
  {
   "cell_type": "markdown",
   "metadata": {},
   "source": [
    "## 『本次練習內容』\n",
    "#### 學習如何搭建Inception Block"
   ]
  },
  {
   "cell_type": "markdown",
   "metadata": {},
   "source": [
    "## 『本次練習目的』\n",
    "  #### 了解Inceotion原理\n",
    "  #### 了解如何導入Inception block到原本架構中"
   ]
  },
  {
   "cell_type": "markdown",
   "metadata": {},
   "source": [
    "---"
   ]
  },
  {
   "cell_type": "markdown",
   "metadata": {},
   "source": [
    "![Incpeiton](Inception架構.png)"
   ]
  },
  {
   "cell_type": "code",
   "execution_count": 1,
   "metadata": {},
   "outputs": [
    {
     "name": "stderr",
     "output_type": "stream",
     "text": [
      "Using TensorFlow backend.\n"
     ]
    }
   ],
   "source": [
    "import numpy as np\n",
    "from keras.models import Model\n",
    "from keras.layers import Flatten\n",
    "from keras.layers import Dense\n",
    "from keras.layers import Input\n",
    "from keras.layers import Conv2D\n",
    "from keras.layers import MaxPooling2D\n",
    "from keras.layers import GlobalMaxPooling2D\n",
    "from keras.layers import GlobalAveragePooling2D\n",
    "from keras import backend as K\n",
    "from keras import layers\n",
    "from keras.layers import BatchNormalization\n",
    "from keras.layers import Activation"
   ]
  },
  {
   "cell_type": "markdown",
   "metadata": {},
   "source": [
    "## 導入InceptionV2-有BatchNormalization的Convolution"
   ]
  },
  {
   "cell_type": "code",
   "execution_count": 2,
   "metadata": {},
   "outputs": [],
   "source": [
    "def Conv2d_bn(x,filters,kernel_size,padding='same',strides=(1, 1),normalizer=True,activation='relu',name=None):\n",
    "    if name is not None:\n",
    "        conv_name = name + '_conv'\n",
    "        bn_name = name + '_bn'\n",
    "        act_name = name + '_act'\n",
    "    else:\n",
    "        conv_name = None\n",
    "        bn_name = None\n",
    "        act_name = None\n",
    "    if K.image_data_format() == 'channels_first':\n",
    "        bn_axis = 1\n",
    "    else:\n",
    "        bn_axis = 3\n",
    "    x = Conv2D(\n",
    "            filters, kernel_size,\n",
    "            strides=strides, padding=padding,\n",
    "            use_bias=False, name=conv_name)(x)\n",
    "    if normalizer:\n",
    "        x = BatchNormalization(axis=bn_axis, scale=False, name=bn_name)(x)\n",
    "    if activation:\n",
    "        x = Activation(activation, name=act_name)(x)\n",
    "    return x"
   ]
  },
  {
   "cell_type": "markdown",
   "metadata": {},
   "source": [
    "## 參考上圖搭建 InceptionV1_block"
   ]
  },
  {
   "cell_type": "code",
   "execution_count": 3,
   "metadata": {},
   "outputs": [],
   "source": [
    "def InceptionV1_block(x, specs,channel_axis, name):\n",
    "    (br0, br1, br2, br3) = specs   # ((64,), (96,128), (16,32), (32,))\n",
    "    branch_0 = Conv2d_bn(x, br0[0], (1, 1), name=name+\"_Branch_0\")\n",
    "\n",
    "    branch_1 = Conv2d_bn(x, br1[0], (1, 1), name=name+\"_Branch_1\")\n",
    "    branch_1 = Conv2d_bn(branch_1, br1[1], (3, 3), name=name+\"_Branch_1_1\")\n",
    "\n",
    "    '''Branch_2'''\n",
    "    branch_2 = Conv2d_bn(x, br1[0], (1, 1), name=name+\"_Branch_2\")\n",
    "    branch_2 = Conv2d_bn(branch_2, br2[1], (5, 5), name=name+\"_Branch_2_1\")\n",
    "\n",
    "    '''Branch_3'''\n",
    "    branch_3 = MaxPooling2D((3, 3), (1,1), 'same', name=name+\"_Branch_3_pool\")(x)\n",
    "    branch_3 = Conv2d_bn(branch_3, br3[0], (1, 1), name=name+\"_Branch_3_1\")\n",
    "    \n",
    "\n",
    "    x = layers.concatenate(\n",
    "        [branch_0, branch_1, branch_2, branch_3],\n",
    "        axis=channel_axis,\n",
    "        name=name+\"_Concatenated\")\n",
    "    return x"
   ]
  },
  {
   "cell_type": "markdown",
   "metadata": {},
   "source": [
    "## 測試"
   ]
  },
  {
   "cell_type": "code",
   "execution_count": 4,
   "metadata": {},
   "outputs": [
    {
     "name": "stdout",
     "output_type": "stream",
     "text": [
      "Tensor(\"Block_1_Concatenated/concat:0\", shape=(None, 224, 224, 256), dtype=float32)\n"
     ]
    }
   ],
   "source": [
    "img_input = Input(shape=(224,224,1))\n",
    "x=InceptionV1_block(img_input, ((64,), (96,128), (16,32), (32,)), 3, 'Block_1')\n",
    "print(x)"
   ]
  },
  {
   "cell_type": "markdown",
   "metadata": {},
   "source": [
    "## 將 InceptionV1_block中n*n卷積改為1 x n+n x 1"
   ]
  },
  {
   "cell_type": "code",
   "execution_count": 5,
   "metadata": {},
   "outputs": [],
   "source": [
    "def InceptionV3_block(x, specs,channel_axis, name):\n",
    "    (br0, br1, br2, br3) = specs   # ((64,), (96,128), (16,32), (32,))\n",
    "    branch_0 = Conv2d_bn(x, br0[0], (1, 1), name=name+\"_Branch_0\")\n",
    "\n",
    "    branch_1 = Conv2d_bn(x, br1[0], (1, 1), name=name+\"_Branch_1\")\n",
    "    branch_1 = Conv2d_bn(branch_1, br1[1], (1, 3), name=name+\"_Branch_1_1\")\n",
    "    branch_1 = Conv2d_bn(branch_1, br1[1], (3, 1), name=name+\"_Branch_1_2\")\n",
    "\n",
    "    '''Branch_2'''\n",
    "    branch_2 = Conv2d_bn(x, br1[0], (1, 1), name=name+\"_Branch_2\")\n",
    "    branch_2 = Conv2d_bn(branch_2, br2[1], (1, 5), name=name+\"_Branch_2_1\")\n",
    "    branch_2 = Conv2d_bn(branch_2, br2[1], (5, 1), name=name+\"_Branch_2_2\")\n",
    "\n",
    "    '''Branch_3'''\n",
    "    branch_3 = MaxPooling2D((3, 3), (1,1), 'same', name=name+\"_Branch_3_pool\")(x)\n",
    "    branch_3 = Conv2d_bn(branch_3, br3[0], (1, 1), name=name+\"_Branch_3\")\n",
    " \n",
    "\n",
    "    x = layers.concatenate(\n",
    "        [branch_0, branch_1, branch_2, branch_3],\n",
    "        axis=channel_axis,\n",
    "        name=name+\"_Concatenated\")\n",
    "    return x"
   ]
  },
  {
   "cell_type": "markdown",
   "metadata": {},
   "source": [
    "## 測試"
   ]
  },
  {
   "cell_type": "code",
   "execution_count": 6,
   "metadata": {},
   "outputs": [
    {
     "name": "stdout",
     "output_type": "stream",
     "text": [
      "Tensor(\"Block_1_Concatenated_1/concat:0\", shape=(None, 224, 224, 256), dtype=float32)\n"
     ]
    }
   ],
   "source": [
    "img_input = Input(shape=(224,224,1))\n",
    "x=InceptionV3_block(img_input, ((64,), (96,128), (16,32), (32,)), 3, 'Block_1')\n",
    "print(x)"
   ]
  },
  {
   "cell_type": "markdown",
   "metadata": {},
   "source": [
    "---"
   ]
  },
  {
   "cell_type": "markdown",
   "metadata": {},
   "source": [
    "## 額外練習"
   ]
  },
  {
   "cell_type": "markdown",
   "metadata": {},
   "source": [
    "## 將VGG16 Block_3中的Convolution全部改為InceptionV1_block\n",
    "## Block_5中的Convolution全部改為InceptionV3_block\n",
    "## 並將所有Convolution改為Conv2d_bn"
   ]
  },
  {
   "cell_type": "markdown",
   "metadata": {},
   "source": [
    "#### 原vgg16架構"
   ]
  },
  {
   "cell_type": "code",
   "execution_count": 7,
   "metadata": {},
   "outputs": [],
   "source": [
    "def VGG16(include_top=True,input_tensor=None, input_shape=(224,224,1),\n",
    "          pooling='max',classes=1000):\n",
    " \n",
    "    img_input = Input(shape=input_shape)\n",
    "\n",
    "    x = Conv2D(64, (3, 3), activation='relu', padding='same', name='block1_conv1')(img_input)\n",
    "    x = Conv2D(64, (3, 3), activation='relu', padding='same', name='block1_conv2')(x)\n",
    "    x = MaxPooling2D((2, 2), strides=(2, 2), name='block1_pool')(x)\n",
    "\n",
    "    # Block 2\n",
    "    x = Conv2D(128, (3, 3), activation='relu', padding='same', name='block2_conv1')(x)\n",
    "    x = Conv2D(128, (3, 3), activation='relu', padding='same', name='block2_conv2')(x)\n",
    "    x = MaxPooling2D((2, 2), strides=(2, 2), name='block2_pool')(x)\n",
    "\n",
    "    # Block 3\n",
    "    x = Conv2D(256, (3, 3), activation='relu', padding='same', name='block3_conv1')(x)\n",
    "    x = Conv2D(256, (3, 3), activation='relu', padding='same', name='block3_conv2')(x)\n",
    "    x = Conv2D(256, (3, 3), activation='relu', padding='same', name='block3_conv3')(x)\n",
    "    x = MaxPooling2D((2, 2), strides=(2, 2), name='block3_pool')(x)\n",
    "\n",
    "    # Block 4\n",
    "    x = Conv2D(512, (3, 3), activation='relu', padding='same', name='block4_conv1')(x)\n",
    "    x = Conv2D(512, (3, 3), activation='relu', padding='same', name='block4_conv2')(x)\n",
    "    x = Conv2D(512, (3, 3), activation='relu', padding='same', name='block4_conv3')(x)\n",
    "    x = MaxPooling2D((2, 2), strides=(2, 2), name='block4_pool')(x)\n",
    "\n",
    "    # Block 5\n",
    "    x = Conv2D(512, (3, 3), activation='relu', padding='same', name='block5_conv1')(x)\n",
    "    x = Conv2D(512, (3, 3), activation='relu', padding='same', name='block5_conv2')(x)\n",
    "    x = Conv2D(512, (3, 3), activation='relu', padding='same', name='block5_conv3')(x)\n",
    "    x = MaxPooling2D((2, 2), strides=(2, 2), name='block5_pool')(x)\n",
    "\n",
    "    if include_top:\n",
    "        # Classification block\n",
    "        x = Flatten(name='flatten')(x)\n",
    "        x = Dense(4096, activation='relu', name='fc1')(x)\n",
    "        x = Dense(4096, activation='relu', name='fc2')(x)\n",
    "        x = Dense(classes, activation='softmax', name='predictions')(x)\n",
    "    else:\n",
    "        if pooling == 'avg':\n",
    "            x = GlobalAveragePooling2D()(x)\n",
    "        elif pooling == 'max':\n",
    "            x = GlobalMaxPooling2D()(x)\n",
    "\n",
    "    inputs = img_input\n",
    "    # Create model.\n",
    "    model = Model(inputs, x, name='vgg16')\n",
    "\n",
    "   \n",
    "    return model"
   ]
  },
  {
   "cell_type": "markdown",
   "metadata": {},
   "source": [
    "#### 修改後"
   ]
  },
  {
   "cell_type": "code",
   "execution_count": 8,
   "metadata": {},
   "outputs": [],
   "source": [
    "def VGG16_Inception(include_top=True,input_tensor=None, input_shape=(224,224,1),\n",
    "          pooling='max',classes=1000):\n",
    " \n",
    "    '''修改模型'''\n",
    "    img_input = Input(shape=input_shape)\n",
    "\n",
    "    x = Conv2D(64, (3, 3), activation='relu', padding='same', name='block1_conv1')(img_input)\n",
    "    x = Conv2D(64, (3, 3), activation='relu', padding='same', name='block1_conv2')(x)\n",
    "    x = MaxPooling2D((2, 2), strides=(2, 2), name='block1_pool')(x)\n",
    "\n",
    "    # Block 2\n",
    "    x = Conv2D(128, (3, 3), activation='relu', padding='same', name='block2_conv1')(x)\n",
    "    x = Conv2D(128, (3, 3), activation='relu', padding='same', name='block2_conv2')(x)\n",
    "    x = MaxPooling2D((2, 2), strides=(2, 2), name='block2_pool')(x)\n",
    "\n",
    "    # Block 3\n",
    "    x1 = Conv2D(256, (1, 1), activation='relu', padding='same', name='block3_conv1_1c')(x)\n",
    "    x2 = Conv2D(256, (1, 1), activation='relu', padding='same', name='block3_conv1_2c_1')(x)\n",
    "    x2 = Conv2D(256, (3, 3), activation='relu', padding='same', name='block3_conv1_2c_2')(x2)\n",
    "    \n",
    "    x3 = Conv2D(256, (1, 1), activation='relu', padding='same', name='block3_conv1_3c_1')(x)\n",
    "    x3 = Conv2D(256, (5, 5), activation='relu', padding='same', name='block3_conv1_3c_2')(x3)\n",
    "    \n",
    "    x4 = MaxPooling2D((3, 3), strides=(1, 1),padding='same', name='block3_pool_4c_1')(x)\n",
    "    x4 = Conv2D(256, (3, 3), activation='relu', padding='same', name='block3_conv1_4c_2')(x4)\n",
    "    \n",
    "    x = layers.concatenate(\n",
    "        [x1, x2, x3, x4],\n",
    "        axis=3,\n",
    "        name=\"Concatenated_block_3\")\n",
    "\n",
    "    # Block 4\n",
    "    x = Conv2D(512, (3, 3), activation='relu', padding='same', name='block4_conv1')(x)\n",
    "    x = Conv2D(512, (3, 3), activation='relu', padding='same', name='block4_conv2')(x)\n",
    "    x = Conv2D(512, (3, 3), activation='relu', padding='same', name='block4_conv3')(x)\n",
    "    x = MaxPooling2D((2, 2), strides=(2, 2), name='block4_pool')(x)\n",
    "\n",
    "    # Block 5\n",
    "    x1 = Conv2D(512, (1, 1), activation='relu', padding='same', name='block5_conv1_c1')(x)\n",
    "    \n",
    "    x2 = Conv2D(512, (1, 1), activation='relu', padding='same', name='block5_conv1_c2_1')(x)\n",
    "    x2 = Conv2D(512, (3, 1), activation='relu', padding='same', name='block5_conv1_c2_2')(x2)\n",
    "    x2 = Conv2D(512, (1, 3), activation='relu', padding='same', name='block5_conv1_c2_3')(x2)\n",
    "    \n",
    "    x3 = Conv2D(512, (1, 1), activation='relu', padding='same', name='block5_conv1_c3_1')(x)\n",
    "    x3 = Conv2D(512, (5, 1), activation='relu', padding='same', name='block5_conv1_c3_2')(x3)\n",
    "    x3 = Conv2D(512, (1, 5), activation='relu', padding='same', name='block5_conv1_c3_3')(x3)\n",
    "    \n",
    "    x4 = MaxPooling2D((3, 3), strides=(1, 1),padding='same', name='block5_pool_c4_1')(x)\n",
    "    x4 = Conv2D(512, (1, 1), activation='relu', padding='same', name='block5_conv1_c4_2')(x4)\n",
    "    \n",
    "    x = layers.concatenate(\n",
    "        [x1, x2, x3, x4],\n",
    "        axis=3,\n",
    "        name=\"Concatenated_block_5\")\n",
    "\n",
    "    if include_top:\n",
    "        # Classification block\n",
    "        x = Flatten(name='flatten')(x)\n",
    "        x = Dense(4096, activation='relu', name='fc1')(x)\n",
    "        x = Dense(4096, activation='relu', name='fc2')(x)\n",
    "        x = Dense(classes, activation='softmax', name='predictions')(x)\n",
    "    else:\n",
    "        if pooling == 'avg':\n",
    "            x = GlobalAveragePooling2D()(x)\n",
    "        elif pooling == 'max':\n",
    "            x = GlobalMaxPooling2D()(x)\n",
    "\n",
    "    inputs = img_input\n",
    "    # Create model.\n",
    "    model = Model(inputs, x, name='vgg16')\n",
    "   \n",
    "    return model\n",
    "\n"
   ]
  },
  {
   "cell_type": "code",
   "execution_count": 9,
   "metadata": {},
   "outputs": [],
   "source": [
    "model = VGG16_Inception(include_top=False)"
   ]
  },
  {
   "cell_type": "code",
   "execution_count": 10,
   "metadata": {},
   "outputs": [
    {
     "name": "stdout",
     "output_type": "stream",
     "text": [
      "Model: \"vgg16\"\n",
      "__________________________________________________________________________________________________\n",
      "Layer (type)                    Output Shape         Param #     Connected to                     \n",
      "==================================================================================================\n",
      "input_3 (InputLayer)            (None, 224, 224, 1)  0                                            \n",
      "__________________________________________________________________________________________________\n",
      "block1_conv1 (Conv2D)           (None, 224, 224, 64) 640         input_3[0][0]                    \n",
      "__________________________________________________________________________________________________\n",
      "block1_conv2 (Conv2D)           (None, 224, 224, 64) 36928       block1_conv1[0][0]               \n",
      "__________________________________________________________________________________________________\n",
      "block1_pool (MaxPooling2D)      (None, 112, 112, 64) 0           block1_conv2[0][0]               \n",
      "__________________________________________________________________________________________________\n",
      "block2_conv1 (Conv2D)           (None, 112, 112, 128 73856       block1_pool[0][0]                \n",
      "__________________________________________________________________________________________________\n",
      "block2_conv2 (Conv2D)           (None, 112, 112, 128 147584      block2_conv1[0][0]               \n",
      "__________________________________________________________________________________________________\n",
      "block2_pool (MaxPooling2D)      (None, 56, 56, 128)  0           block2_conv2[0][0]               \n",
      "__________________________________________________________________________________________________\n",
      "block3_conv1_2c_1 (Conv2D)      (None, 56, 56, 256)  33024       block2_pool[0][0]                \n",
      "__________________________________________________________________________________________________\n",
      "block3_conv1_3c_1 (Conv2D)      (None, 56, 56, 256)  33024       block2_pool[0][0]                \n",
      "__________________________________________________________________________________________________\n",
      "block3_pool_4c_1 (MaxPooling2D) (None, 56, 56, 128)  0           block2_pool[0][0]                \n",
      "__________________________________________________________________________________________________\n",
      "block3_conv1_1c (Conv2D)        (None, 56, 56, 256)  33024       block2_pool[0][0]                \n",
      "__________________________________________________________________________________________________\n",
      "block3_conv1_2c_2 (Conv2D)      (None, 56, 56, 256)  590080      block3_conv1_2c_1[0][0]          \n",
      "__________________________________________________________________________________________________\n",
      "block3_conv1_3c_2 (Conv2D)      (None, 56, 56, 256)  1638656     block3_conv1_3c_1[0][0]          \n",
      "__________________________________________________________________________________________________\n",
      "block3_conv1_4c_2 (Conv2D)      (None, 56, 56, 256)  295168      block3_pool_4c_1[0][0]           \n",
      "__________________________________________________________________________________________________\n",
      "Concatenated_block_3 (Concatena (None, 56, 56, 1024) 0           block3_conv1_1c[0][0]            \n",
      "                                                                 block3_conv1_2c_2[0][0]          \n",
      "                                                                 block3_conv1_3c_2[0][0]          \n",
      "                                                                 block3_conv1_4c_2[0][0]          \n",
      "__________________________________________________________________________________________________\n",
      "block4_conv1 (Conv2D)           (None, 56, 56, 512)  4719104     Concatenated_block_3[0][0]       \n",
      "__________________________________________________________________________________________________\n",
      "block4_conv2 (Conv2D)           (None, 56, 56, 512)  2359808     block4_conv1[0][0]               \n",
      "__________________________________________________________________________________________________\n",
      "block4_conv3 (Conv2D)           (None, 56, 56, 512)  2359808     block4_conv2[0][0]               \n",
      "__________________________________________________________________________________________________\n",
      "block4_pool (MaxPooling2D)      (None, 28, 28, 512)  0           block4_conv3[0][0]               \n",
      "__________________________________________________________________________________________________\n",
      "block5_conv1_c2_1 (Conv2D)      (None, 28, 28, 512)  262656      block4_pool[0][0]                \n",
      "__________________________________________________________________________________________________\n",
      "block5_conv1_c3_1 (Conv2D)      (None, 28, 28, 512)  262656      block4_pool[0][0]                \n",
      "__________________________________________________________________________________________________\n",
      "block5_conv1_c2_2 (Conv2D)      (None, 28, 28, 512)  786944      block5_conv1_c2_1[0][0]          \n",
      "__________________________________________________________________________________________________\n",
      "block5_conv1_c3_2 (Conv2D)      (None, 28, 28, 512)  1311232     block5_conv1_c3_1[0][0]          \n",
      "__________________________________________________________________________________________________\n",
      "block5_pool_c4_1 (MaxPooling2D) (None, 28, 28, 512)  0           block4_pool[0][0]                \n",
      "__________________________________________________________________________________________________\n",
      "block5_conv1_c1 (Conv2D)        (None, 28, 28, 512)  262656      block4_pool[0][0]                \n",
      "__________________________________________________________________________________________________\n",
      "block5_conv1_c2_3 (Conv2D)      (None, 28, 28, 512)  786944      block5_conv1_c2_2[0][0]          \n",
      "__________________________________________________________________________________________________\n",
      "block5_conv1_c3_3 (Conv2D)      (None, 28, 28, 512)  1311232     block5_conv1_c3_2[0][0]          \n",
      "__________________________________________________________________________________________________\n",
      "block5_conv1_c4_2 (Conv2D)      (None, 28, 28, 512)  262656      block5_pool_c4_1[0][0]           \n",
      "__________________________________________________________________________________________________\n",
      "Concatenated_block_5 (Concatena (None, 28, 28, 2048) 0           block5_conv1_c1[0][0]            \n",
      "                                                                 block5_conv1_c2_3[0][0]          \n",
      "                                                                 block5_conv1_c3_3[0][0]          \n",
      "                                                                 block5_conv1_c4_2[0][0]          \n",
      "__________________________________________________________________________________________________\n",
      "global_max_pooling2d_1 (GlobalM (None, 2048)         0           Concatenated_block_5[0][0]       \n",
      "==================================================================================================\n",
      "Total params: 17,567,680\n",
      "Trainable params: 17,567,680\n",
      "Non-trainable params: 0\n",
      "__________________________________________________________________________________________________\n"
     ]
    }
   ],
   "source": [
    "model.summary()"
   ]
  }
 ],
 "metadata": {
  "kernelspec": {
   "display_name": "Python 3",
   "language": "python",
   "name": "python3"
  },
  "language_info": {
   "codemirror_mode": {
    "name": "ipython",
    "version": 3
   },
   "file_extension": ".py",
   "mimetype": "text/x-python",
   "name": "python",
   "nbconvert_exporter": "python",
   "pygments_lexer": "ipython3",
   "version": "3.7.4"
  }
 },
 "nbformat": 4,
 "nbformat_minor": 2
}
