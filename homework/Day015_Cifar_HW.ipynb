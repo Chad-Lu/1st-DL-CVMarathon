{
 "cells": [
  {
   "cell_type": "markdown",
   "metadata": {},
   "source": [
    "## 『本次練習內容』\n",
    "#### 運用這幾天所學觀念搭建一個CNN分類器"
   ]
  },
  {
   "cell_type": "markdown",
   "metadata": {},
   "source": [
    "## 『本次練習目的』\n",
    "  #### 熟悉CNN分類器搭建步驟與原理\n",
    "  #### 學員們可以嘗試不同搭法，如使用不同的Maxpooling層，用GlobalAveragePooling取代Flatten等等"
   ]
  },
  {
   "cell_type": "code",
   "execution_count": 8,
   "metadata": {},
   "outputs": [
    {
     "name": "stdout",
     "output_type": "stream",
     "text": [
      "1.13.1\n"
     ]
    }
   ],
   "source": [
    "from keras.models import Sequential\n",
    "from keras.layers import Convolution2D\n",
    "from keras.layers import MaxPooling2D\n",
    "from keras.layers import Flatten\n",
    "from keras.layers import Dense\n",
    "from keras.layers import Dropout\n",
    "from keras.layers import BatchNormalization\n",
    "from keras.datasets import cifar10\n",
    "import numpy as np\n",
    "import tensorflow as tf\n",
    "from sklearn.preprocessing import OneHotEncoder\n",
    "\n",
    "print(tf.__version__)"
   ]
  },
  {
   "cell_type": "code",
   "execution_count": 9,
   "metadata": {},
   "outputs": [
    {
     "name": "stdout",
     "output_type": "stream",
     "text": [
      "(50000, 32, 32, 3)\n"
     ]
    }
   ],
   "source": [
    "(x_train, y_train), (x_test, y_test) = cifar10.load_data()\n",
    "\n",
    "print(x_train.shape) #(50000, 32, 32, 3)\n",
    "\n",
    "## Normalize Data\n",
    "def normalize(X_train,X_test):\n",
    "        mean = np.mean(X_train,axis=(0,1,2,3))\n",
    "        std = np.std(X_train, axis=(0, 1, 2, 3))\n",
    "        X_train = (X_train-mean)/(std+1e-7)\n",
    "        X_test = (X_test-mean)/(std+1e-7) \n",
    "        return X_train, X_test,mean,std\n",
    "    \n",
    "    \n",
    "## Normalize Training and Testset    \n",
    "x_train, x_test,mean_train,std_train = normalize(x_train, x_test) "
   ]
  },
  {
   "cell_type": "code",
   "execution_count": 10,
   "metadata": {},
   "outputs": [
    {
     "name": "stderr",
     "output_type": "stream",
     "text": [
      "C:\\Users\\user\\Anaconda3\\lib\\site-packages\\sklearn\\preprocessing\\_encoders.py:415: FutureWarning: The handling of integer data will change in version 0.22. Currently, the categories are determined based on the range [0, max(values)], while in the future they will be determined based on the unique values.\n",
      "If you want the future behaviour and silence this warning, you can specify \"categories='auto'\".\n",
      "In case you used a LabelEncoder before this OneHotEncoder to convert the categories to integers, then you can now use the OneHotEncoder directly.\n",
      "  warnings.warn(msg, FutureWarning)\n"
     ]
    }
   ],
   "source": [
    "## OneHot Label 由(None, 1)-(None, 10)\n",
    "## ex. label=2,變成[0,0,1,0,0,0,0,0,0,0]\n",
    "one_hot=OneHotEncoder()\n",
    "y_train=one_hot.fit_transform(y_train).toarray()\n",
    "y_test=one_hot.transform(y_test).toarray()"
   ]
  },
  {
   "cell_type": "code",
   "execution_count": 11,
   "metadata": {},
   "outputs": [
    {
     "name": "stdout",
     "output_type": "stream",
     "text": [
      "_________________________________________________________________\n",
      "Layer (type)                 Output Shape              Param #   \n",
      "=================================================================\n",
      "conv2d_5 (Conv2D)            (None, 30, 30, 32)        896       \n",
      "_________________________________________________________________\n",
      "batch_normalization_5 (Batch (None, 30, 30, 32)        128       \n",
      "_________________________________________________________________\n",
      "max_pooling2d_4 (MaxPooling2 (None, 15, 15, 32)        0         \n",
      "_________________________________________________________________\n",
      "conv2d_6 (Conv2D)            (None, 13, 13, 16)        4624      \n",
      "_________________________________________________________________\n",
      "batch_normalization_6 (Batch (None, 13, 13, 16)        64        \n",
      "_________________________________________________________________\n",
      "max_pooling2d_5 (MaxPooling2 (None, 13, 13, 16)        0         \n",
      "_________________________________________________________________\n",
      "flatten_3 (Flatten)          (None, 2704)              0         \n",
      "_________________________________________________________________\n",
      "dense_5 (Dense)              (None, 100)               270500    \n",
      "_________________________________________________________________\n",
      "dense_6 (Dense)              (None, 10)                1010      \n",
      "=================================================================\n",
      "Total params: 277,222\n",
      "Trainable params: 277,126\n",
      "Non-trainable params: 96\n",
      "_________________________________________________________________\n"
     ]
    },
    {
     "name": "stderr",
     "output_type": "stream",
     "text": [
      "C:\\Users\\user\\Anaconda3\\lib\\site-packages\\ipykernel_launcher.py:25: UserWarning: Update your `Dense` call to the Keras 2 API: `Dense(activation=\"relu\", units=100)`\n",
      "C:\\Users\\user\\Anaconda3\\lib\\site-packages\\ipykernel_launcher.py:28: UserWarning: Update your `Dense` call to the Keras 2 API: `Dense(activation=\"softmax\", units=10)`\n"
     ]
    }
   ],
   "source": [
    "\n",
    "classifier=Sequential()\n",
    "\n",
    "#卷積組合\n",
    "classifier.add(Convolution2D(filters=32,\n",
    "                             kernel_size=(3,3),\n",
    "                             activation='relu',\n",
    "                             input_shape=(32,32,3)))#32,3,3,input_shape=(32,32,3),activation='relu''\n",
    "classifier.add(BatchNormalization())\n",
    "\n",
    "'''自己決定MaxPooling2D放在哪裡'''\n",
    "classifier.add(MaxPooling2D(pool_size=(2,2)))\n",
    "\n",
    "#卷積組合\n",
    "classifier.add(Convolution2D(filters=16,\n",
    "                             kernel_size=(3,3),\n",
    "                             activation='relu',))\n",
    "classifier.add(BatchNormalization())\n",
    "\n",
    "classifier.add(MaxPooling2D(pool_size=(1,1)))\n",
    "\n",
    "#flatten\n",
    "classifier.add(Flatten())\n",
    "\n",
    "#FC\n",
    "classifier.add(Dense(output_dim=100, activation='relu')) #output_dim=100,activation=relu\n",
    "\n",
    "#輸出\n",
    "classifier.add(Dense(output_dim=10,activation='softmax'))\n",
    "\n",
    "classifier.summary()"
   ]
  },
  {
   "cell_type": "code",
   "execution_count": 12,
   "metadata": {
    "scrolled": true
   },
   "outputs": [
    {
     "name": "stdout",
     "output_type": "stream",
     "text": [
      "Epoch 1/50\n",
      "50000/50000 [==============================] - 7s 137us/step - loss: 1.3270 - acc: 0.5419\n",
      "Epoch 2/50\n",
      "50000/50000 [==============================] - 6s 123us/step - loss: 0.8905 - acc: 0.6863\n",
      "Epoch 3/50\n",
      "50000/50000 [==============================] - 6s 123us/step - loss: 0.7190 - acc: 0.7488\n",
      "Epoch 4/50\n",
      "50000/50000 [==============================] - 6s 123us/step - loss: 0.5896 - acc: 0.7954\n",
      "Epoch 5/50\n",
      "50000/50000 [==============================] - 6s 123us/step - loss: 0.4758 - acc: 0.8338\n",
      "Epoch 6/50\n",
      "50000/50000 [==============================] - ETA: 0s - loss: 0.3704 - acc: 0.871 - 6s 123us/step - loss: 0.3707 - acc: 0.8714\n",
      "Epoch 7/50\n",
      "50000/50000 [==============================] - 6s 123us/step - loss: 0.2912 - acc: 0.8999\n",
      "Epoch 8/50\n",
      "50000/50000 [==============================] - 6s 123us/step - loss: 0.2191 - acc: 0.9248\n",
      "Epoch 9/50\n",
      "50000/50000 [==============================] - 6s 123us/step - loss: 0.1741 - acc: 0.9402\n",
      "Epoch 10/50\n",
      "50000/50000 [==============================] - 6s 124us/step - loss: 0.1398 - acc: 0.9526\n",
      "Epoch 11/50\n",
      "50000/50000 [==============================] - 6s 123us/step - loss: 0.1270 - acc: 0.9561\n",
      "Epoch 12/50\n",
      "50000/50000 [==============================] - 6s 122us/step - loss: 0.1231 - acc: 0.9573\n",
      "Epoch 13/50\n",
      "50000/50000 [==============================] - 6s 123us/step - loss: 0.1020 - acc: 0.9644\n",
      "Epoch 14/50\n",
      "50000/50000 [==============================] - 6s 124us/step - loss: 0.0864 - acc: 0.9699\n",
      "Epoch 15/50\n",
      "50000/50000 [==============================] - 6s 124us/step - loss: 0.0842 - acc: 0.9707\n",
      "Epoch 16/50\n",
      "50000/50000 [==============================] - 6s 126us/step - loss: 0.0787 - acc: 0.9718\n",
      "Epoch 17/50\n",
      "50000/50000 [==============================] - 7s 130us/step - loss: 0.0812 - acc: 0.9714\n",
      "Epoch 18/50\n",
      "50000/50000 [==============================] - 6s 127us/step - loss: 0.0685 - acc: 0.9767\n",
      "Epoch 19/50\n",
      "50000/50000 [==============================] - 6s 126us/step - loss: 0.0671 - acc: 0.9764\n",
      "Epoch 20/50\n",
      "50000/50000 [==============================] - 6s 125us/step - loss: 0.0617 - acc: 0.9780\n",
      "Epoch 21/50\n",
      "50000/50000 [==============================] - 6s 124us/step - loss: 0.0672 - acc: 0.9772\n",
      "Epoch 22/50\n",
      "50000/50000 [==============================] - 6s 123us/step - loss: 0.0547 - acc: 0.9809\n",
      "Epoch 23/50\n",
      "50000/50000 [==============================] - 6s 124us/step - loss: 0.0623 - acc: 0.9789\n",
      "Epoch 24/50\n",
      "50000/50000 [==============================] - 6s 123us/step - loss: 0.0562 - acc: 0.9803\n",
      "Epoch 25/50\n",
      "50000/50000 [==============================] - 6s 123us/step - loss: 0.0500 - acc: 0.9824\n",
      "Epoch 26/50\n",
      "50000/50000 [==============================] - 6s 123us/step - loss: 0.0503 - acc: 0.9819\n",
      "Epoch 27/50\n",
      "50000/50000 [==============================] - 6s 124us/step - loss: 0.0532 - acc: 0.9815\n",
      "Epoch 28/50\n",
      "50000/50000 [==============================] - 6s 123us/step - loss: 0.0498 - acc: 0.9830 0s - loss: 0.0481 \n",
      "Epoch 29/50\n",
      "50000/50000 [==============================] - 6s 124us/step - loss: 0.0434 - acc: 0.9853\n",
      "Epoch 30/50\n",
      "50000/50000 [==============================] - 6s 122us/step - loss: 0.0423 - acc: 0.9854\n",
      "Epoch 31/50\n",
      "50000/50000 [==============================] - 6s 123us/step - loss: 0.0422 - acc: 0.9851\n",
      "Epoch 32/50\n",
      "50000/50000 [==============================] - 6s 123us/step - loss: 0.0513 - acc: 0.9834 1s - los\n",
      "Epoch 33/50\n",
      "50000/50000 [==============================] - 6s 123us/step - loss: 0.0404 - acc: 0.9861 1s - loss:  - ETA: 0s - loss: 0.0403 - acc: 0.98\n",
      "Epoch 34/50\n",
      "50000/50000 [==============================] - 6s 123us/step - loss: 0.0441 - acc: 0.9853\n",
      "Epoch 35/50\n",
      "50000/50000 [==============================] - 6s 123us/step - loss: 0.0359 - acc: 0.9877\n",
      "Epoch 36/50\n",
      "50000/50000 [==============================] - 6s 123us/step - loss: 0.0316 - acc: 0.9889\n",
      "Epoch 37/50\n",
      "50000/50000 [==============================] - 6s 123us/step - loss: 0.0414 - acc: 0.9854\n",
      "Epoch 38/50\n",
      "50000/50000 [==============================] - 6s 123us/step - loss: 0.0484 - acc: 0.9837\n",
      "Epoch 39/50\n",
      "50000/50000 [==============================] - 6s 123us/step - loss: 0.0390 - acc: 0.9871\n",
      "Epoch 40/50\n",
      "50000/50000 [==============================] - 6s 124us/step - loss: 0.0325 - acc: 0.9896\n",
      "Epoch 41/50\n",
      "50000/50000 [==============================] - 6s 124us/step - loss: 0.0305 - acc: 0.9896\n",
      "Epoch 42/50\n",
      "50000/50000 [==============================] - 6s 123us/step - loss: 0.0344 - acc: 0.9886\n",
      "Epoch 43/50\n",
      "50000/50000 [==============================] - 6s 122us/step - loss: 0.0423 - acc: 0.9861\n",
      "Epoch 44/50\n",
      "50000/50000 [==============================] - 6s 121us/step - loss: 0.0343 - acc: 0.9882\n",
      "Epoch 45/50\n",
      "50000/50000 [==============================] - 6s 122us/step - loss: 0.0321 - acc: 0.9889\n",
      "Epoch 46/50\n",
      "50000/50000 [==============================] - 6s 122us/step - loss: 0.0288 - acc: 0.9900\n",
      "Epoch 47/50\n",
      "50000/50000 [==============================] - 6s 122us/step - loss: 0.0300 - acc: 0.9896 3s - loss: 0.0287 - ac - ETA: 2s - loss: 0.02 - E\n",
      "Epoch 48/50\n",
      "50000/50000 [==============================] - 6s 123us/step - loss: 0.0325 - acc: 0.9891\n",
      "Epoch 49/50\n",
      "50000/50000 [==============================] - 6s 122us/step - loss: 0.0276 - acc: 0.9909\n",
      "Epoch 50/50\n",
      "50000/50000 [==============================] - 6s 123us/step - loss: 0.0306 - acc: 0.9901\n"
     ]
    },
    {
     "data": {
      "text/plain": [
       "<keras.callbacks.History at 0x281ff68c6c8>"
      ]
     },
     "execution_count": 12,
     "metadata": {},
     "output_type": "execute_result"
    }
   ],
   "source": [
    "#超過兩個就要選categorical_crossentrophy\n",
    "classifier.compile(optimizer = 'adam', loss = 'categorical_crossentropy', metrics = ['accuracy'])\n",
    "classifier.fit(x_train,y_train,batch_size=100,epochs=50)"
   ]
  },
  {
   "cell_type": "markdown",
   "metadata": {},
   "source": [
    "## 預測新圖片，輸入影像前處理要與訓練時相同\n",
    "#### ((X-mean)/(std+1e-7) ):這裡的mean跟std是訓練集的\n",
    "## 維度如下方示範"
   ]
  },
  {
   "cell_type": "code",
   "execution_count": 13,
   "metadata": {},
   "outputs": [
    {
     "data": {
      "text/plain": [
       "array([[1.3365559e-05, 6.2410893e-18, 5.3491163e-01, 4.6505851e-01,\n",
       "        1.4855715e-05, 1.9581171e-13, 4.4467964e-08, 1.3159723e-13,\n",
       "        1.5214645e-06, 1.1643458e-11]], dtype=float32)"
      ]
     },
     "execution_count": 13,
     "metadata": {},
     "output_type": "execute_result"
    }
   ],
   "source": [
    "input_example=(np.zeros(shape=(1,32,32,3))-mean_train)/(std_train+1e-7) \n",
    "classifier.predict(input_example)"
   ]
  }
 ],
 "metadata": {
  "kernelspec": {
   "display_name": "Python 3",
   "language": "python",
   "name": "python3"
  },
  "language_info": {
   "codemirror_mode": {
    "name": "ipython",
    "version": 3
   },
   "file_extension": ".py",
   "mimetype": "text/x-python",
   "name": "python",
   "nbconvert_exporter": "python",
   "pygments_lexer": "ipython3",
   "version": "3.7.4"
  }
 },
 "nbformat": 4,
 "nbformat_minor": 2
}
